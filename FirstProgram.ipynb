{
 "cells": [
  {
   "cell_type": "code",
   "execution_count": 1,
   "id": "0bdc4301-24cc-4f57-9b66-d18262082523",
   "metadata": {
    "tags": []
   },
   "outputs": [
    {
     "data": {
      "text/html": [
       "<div>\n",
       "<style scoped>\n",
       "    .dataframe tbody tr th:only-of-type {\n",
       "        vertical-align: middle;\n",
       "    }\n",
       "\n",
       "    .dataframe tbody tr th {\n",
       "        vertical-align: top;\n",
       "    }\n",
       "\n",
       "    .dataframe thead th {\n",
       "        text-align: right;\n",
       "    }\n",
       "</style>\n",
       "<table border=\"1\" class=\"dataframe\">\n",
       "  <thead>\n",
       "    <tr style=\"text-align: right;\">\n",
       "      <th></th>\n",
       "      <th>title</th>\n",
       "      <th>domain</th>\n",
       "      <th>category</th>\n",
       "    </tr>\n",
       "  </thead>\n",
       "  <tbody>\n",
       "    <tr>\n",
       "      <th>0</th>\n",
       "      <td>Word Processors</td>\n",
       "      <td>Productivity Tools</td>\n",
       "      <td>Productivity Tools</td>\n",
       "    </tr>\n",
       "    <tr>\n",
       "      <th>1</th>\n",
       "      <td>Spreadsheets</td>\n",
       "      <td>Productivity Tools</td>\n",
       "      <td>Productivity Tools</td>\n",
       "    </tr>\n",
       "    <tr>\n",
       "      <th>2</th>\n",
       "      <td>Presentations</td>\n",
       "      <td>Productivity Tools</td>\n",
       "      <td>Productivity Tools</td>\n",
       "    </tr>\n",
       "    <tr>\n",
       "      <th>3</th>\n",
       "      <td>Others</td>\n",
       "      <td>Productivity Tools</td>\n",
       "      <td>Productivity Tools</td>\n",
       "    </tr>\n",
       "    <tr>\n",
       "      <th>4</th>\n",
       "      <td>Google Meet</td>\n",
       "      <td>Meeting &amp; Webinar Platforms</td>\n",
       "      <td>Communication Tools</td>\n",
       "    </tr>\n",
       "  </tbody>\n",
       "</table>\n",
       "</div>"
      ],
      "text/plain": [
       "             title                       domain             category\n",
       "0  Word Processors           Productivity Tools   Productivity Tools\n",
       "1     Spreadsheets           Productivity Tools   Productivity Tools\n",
       "2    Presentations           Productivity Tools   Productivity Tools\n",
       "3           Others           Productivity Tools   Productivity Tools\n",
       "4      Google Meet  Meeting & Webinar Platforms  Communication Tools"
      ]
     },
     "execution_count": 1,
     "metadata": {},
     "output_type": "execute_result"
    }
   ],
   "source": [
    "import pandas as pd\n",
    "from sklearn.tree import DecisionTreeClassifier\n",
    "from sklearn.preprocessing import LabelEncoder\n",
    "from sklearn.model_selection import train_test_split\n",
    "\n",
    "# Load your data\n",
    "df = pd.read_csv(\"categories.csv\")\n",
    "X = df.drop(columns=[\"category\"])\n",
    "Y = df[\"category\"]\n",
    "\n",
    "X_train,X_test,y_train,y_test = train_test_split(X,Y,test_size=0.2)\n",
    "\n",
    "df.head()\n",
    "# # Use Label Encoding to convert text labels to numerical values\n",
    "# label_encoder = LabelEncoder()\n",
    "# Y_encoded = label_encoder.fit_transform(Y)\n",
    "\n",
    "# model = DecisionTreeClassifier()\n",
    "# model.fit(X, Y_encoded)\n",
    "# print(Y_encoded)\n",
    "# # To make predictions, you'll need to encode the input data as well\n",
    "# # input_data = [\"Word Processors\"]  # A list with text input\n",
    "# # input_data_encoded = label_encoder.transform(input_data)\n",
    "\n",
    "# # # Predict using the encoded input data\n",
    "# # predictions = model.predict([input_data_encoded])\n",
    "# # predicted_category = label_encoder.inverse_transform(predictions)\n",
    "\n",
    "# # print(f\"Predicted Category: {predicted_category[0]}\")\n"
   ]
  },
  {
   "cell_type": "code",
   "execution_count": 2,
   "id": "319dfbe7-c77c-4320-adfe-21b7e2fcfc64",
   "metadata": {
    "tags": []
   },
   "outputs": [],
   "source": [
    "from sklearn.ensemble import RandomForestRegressor\n",
    "\n",
    "model = RandomForestRegressor()\n",
    "# model.fit(X_train,y_train)\n",
    "# model.score(X_test,y_test)"
   ]
  },
  {
   "cell_type": "code",
   "execution_count": 32,
   "id": "ea093f1f-790b-44b6-9215-cbc4dfe68210",
   "metadata": {
    "tags": []
   },
   "outputs": [
    {
     "name": "stdout",
     "output_type": "stream",
     "text": [
      "  (0, 98)\t1.0\n",
      "  (0, 122)\t1.0\n",
      "  (1, 87)\t1.0\n",
      "  (1, 122)\t1.0\n",
      "  (2, 71)\t1.0\n",
      "  (2, 122)\t1.0\n",
      "  (3, 68)\t1.0\n",
      "  (3, 122)\t1.0\n",
      "  (4, 44)\t1.0\n",
      "  (4, 117)\t1.0\n",
      "  (5, 68)\t1.0\n",
      "  (5, 117)\t1.0\n",
      "  (6, 80)\t1.0\n",
      "  (6, 101)\t1.0\n",
      "  (7, 25)\t1.0\n",
      "  (7, 101)\t1.0\n",
      "  (8, 58)\t1.0\n",
      "  (8, 101)\t1.0\n",
      "  (9, 68)\t1.0\n",
      "  (9, 101)\t1.0\n",
      "  (10, 69)\t1.0\n",
      "  (10, 108)\t1.0\n",
      "  (11, 42)\t1.0\n",
      "  (11, 108)\t1.0\n",
      "  (12, 43)\t1.0\n",
      "  :\t:\n",
      "  (123, 139)\t1.0\n",
      "  (124, 20)\t1.0\n",
      "  (124, 139)\t1.0\n",
      "  (125, 27)\t1.0\n",
      "  (125, 139)\t1.0\n",
      "  (126, 82)\t1.0\n",
      "  (126, 139)\t1.0\n",
      "  (127, 19)\t1.0\n",
      "  (127, 139)\t1.0\n",
      "  (128, 77)\t1.0\n",
      "  (128, 139)\t1.0\n",
      "  (129, 81)\t1.0\n",
      "  (129, 139)\t1.0\n",
      "  (130, 95)\t1.0\n",
      "  (130, 139)\t1.0\n",
      "  (131, 0)\t1.0\n",
      "  (131, 139)\t1.0\n",
      "  (132, 70)\t1.0\n",
      "  (132, 139)\t1.0\n",
      "  (133, 12)\t1.0\n",
      "  (133, 139)\t1.0\n",
      "  (134, 56)\t1.0\n",
      "  (134, 139)\t1.0\n",
      "  (135, 68)\t1.0\n",
      "  (135, 139)\t1.0\n"
     ]
    }
   ],
   "source": [
    "from sklearn.preprocessing import OneHotEncoder\n",
    "from sklearn.compose import ColumnTransformer\n",
    "\n",
    "\n",
    "categorical_features = [\"title\",\"domain\"]\n",
    "one_hot = OneHotEncoder()\n",
    "transform = ColumnTransformer([(\"one_hot\",one_hot,categorical_features)],remainder=\"passthrough\")\n",
    "transformered_X = transform.fit_transform(X)\n",
    "type(transformered_X)\n",
    "print(transformered_X)"
   ]
  },
  {
   "cell_type": "code",
   "execution_count": null,
   "id": "91953aa9-4031-40b0-b8b4-2520cc80cf64",
   "metadata": {},
   "outputs": [],
   "source": []
  }
 ],
 "metadata": {
  "kernelspec": {
   "display_name": "Python 3 (ipykernel)",
   "language": "python",
   "name": "python3"
  },
  "language_info": {
   "codemirror_mode": {
    "name": "ipython",
    "version": 3
   },
   "file_extension": ".py",
   "mimetype": "text/x-python",
   "name": "python",
   "nbconvert_exporter": "python",
   "pygments_lexer": "ipython3",
   "version": "3.7.9"
  }
 },
 "nbformat": 4,
 "nbformat_minor": 5
}
